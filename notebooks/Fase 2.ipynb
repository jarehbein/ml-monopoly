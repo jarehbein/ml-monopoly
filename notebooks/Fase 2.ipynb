{
 "cells": [
  {
   "cell_type": "raw",
   "id": "db694068-d28f-4ce2-b649-b5194a2c299b",
   "metadata": {},
   "source": [
    "Fase 2: Comprensión de los Datos\n",
    "1. Descripción de los datos\n",
    "El dataset utilizado para este proyecto contiene información sobre clientes, con las siguientes variables clave seleccionadas para el modelo:\n",
    "\n",
    "Renta: Nivel de ingresos del cliente (escalado y normalizado).\n",
    "Edad: Edad del cliente en años.\n",
    "Antigüedad: Tiempo como cliente en meses.\n",
    "Target: Variable objetivo que indica el comportamiento del cliente (0: cliente activo, 1: cliente en riesgo).\n",
    "El conjunto de datos cuenta con 51,124 filas y 4 columnas, sin valores faltantes en las columnas seleccionadas tras la preparación de los datos.\n",
    "\n",
    "2. Calidad de los datos\n",
    "Durante la fase de preparación:\n",
    "\n",
    "Se eliminaron valores duplicados.\n",
    "Se reemplazaron valores no numéricos con valores nulos y posteriormente se rellenaron con 0.\n",
    "Se renombraron las columnas para garantizar claridad y consistencia.\n",
    "Las variables relevantes se seleccionaron para simplificar y optimizar el análisis.\n",
    "3. Estadísticas descriptivas iniciales\n",
    "Un análisis preliminar de las columnas muestra:\n",
    "\n",
    "Renta: Normalizada y centrada alrededor de 0, con valores tanto positivos como negativos.\n",
    "Edad: Valores distribuidos en un rango coherente para clientes (20-70 años en su mayoría).\n",
    "Antigüedad: Incluye clientes con tiempo variado, desde recién inscritos hasta aquellos con varios años de permanencia.\n",
    "Target: Es una variable categórica binaria equilibrada que representa los comportamientos del cliente.\n",
    "4. Exploración gráfica inicial\n",
    "En esta fase, se realizaron visualizaciones para identificar patrones y relaciones iniciales:\n",
    "\n",
    "Histograma de la distribución de las variables.\n",
    "Gráficos de correlación entre las variables seleccionadas y el target.\n",
    "Boxplots para observar posibles outliers en la columna de renta.\n",
    "5. Conclusiones iniciales\n",
    "La calidad de los datos es adecuada para proceder con la fase de preparación, y las transformaciones realizadas aseguran que el dataset esté listo para el modelado. Los gráficos exploratorios muestran patrones interesantes que pueden ser explotados durante la fase de modelado, como la correlación entre la renta y la probabilidad de ser un cliente en riesgo.\n",
    "\n"
   ]
  }
 ],
 "metadata": {
  "kernelspec": {
   "display_name": "Python 3 (ipykernel)",
   "language": "python",
   "name": "python3"
  },
  "language_info": {
   "codemirror_mode": {
    "name": "ipython",
    "version": 3
   },
   "file_extension": ".py",
   "mimetype": "text/x-python",
   "name": "python",
   "nbconvert_exporter": "python",
   "pygments_lexer": "ipython3",
   "version": "3.12.5"
  }
 },
 "nbformat": 4,
 "nbformat_minor": 5
}
