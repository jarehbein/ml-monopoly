{
 "cells": [
  {
   "cell_type": "code",
   "execution_count": null,
   "id": "62230fdb-b4ca-48b1-a2b1-e842f7f4d604",
   "metadata": {},
   "outputs": [],
   "source": [
    "Fase 2: Comprendión de los Datos"
   ]
  },
  {
   "cell_type": "code",
   "execution_count": 6,
   "id": "1aa14870-d439-46db-9798-bf27cadb8ee2",
   "metadata": {},
   "outputs": [
    {
     "name": "stdout",
     "output_type": "stream",
     "text": [
      "<class 'pandas.core.frame.DataFrame'>\n",
      "RangeIndex: 51124 entries, 0 to 51123\n",
      "Data columns (total 4 columns):\n",
      " #   Column      Non-Null Count  Dtype  \n",
      "---  ------      --------------  -----  \n",
      " 0   Renta       51124 non-null  float64\n",
      " 1   Edad        51124 non-null  int64  \n",
      " 2   Antiguedad  51124 non-null  int64  \n",
      " 3   target      51124 non-null  int64  \n",
      "dtypes: float64(1), int64(3)\n",
      "memory usage: 1.6 MB\n",
      "None\n"
     ]
    }
   ],
   "source": [
    "import pandas as pd\n",
    "\n",
    "# Ruta corregida\n",
    "file_path = \"../data/04_feature/prepared_data.csv\"\n",
    "\n",
    "# Cargar el archivo\n",
    "data = pd.read_csv(file_path)\n",
    "\n",
    "# Revisa la estructura del dataset\n",
    "print(data.info())\n",
    "\n"
   ]
  }
 ],
 "metadata": {
  "kernelspec": {
   "display_name": "Python 3 (ipykernel)",
   "language": "python",
   "name": "python3"
  },
  "language_info": {
   "codemirror_mode": {
    "name": "ipython",
    "version": 3
   },
   "file_extension": ".py",
   "mimetype": "text/x-python",
   "name": "python",
   "nbconvert_exporter": "python",
   "pygments_lexer": "ipython3",
   "version": "3.12.5"
  }
 },
 "nbformat": 4,
 "nbformat_minor": 5
}
