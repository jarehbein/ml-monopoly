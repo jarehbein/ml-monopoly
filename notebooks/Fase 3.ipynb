{
 "cells": [
  {
   "cell_type": "raw",
   "id": "d2b651ee-8aa0-4835-a885-afc7ea9827c3",
   "metadata": {},
   "source": [
    "Fase 3: Preparación de los Datos\n",
    "1. Limpieza y Transformación\n",
    "En esta fase, se realizaron las siguientes acciones para preparar los datos para el modelado:\n",
    "\n",
    "Renombrar columnas:\n",
    "\n",
    "Las columnas se renombraron utilizando la primera fila como encabezado, lo que permite que los nombres sean descriptivos y fáciles de entender.\n",
    "Eliminación de duplicados:\n",
    "\n",
    "Se eliminaron las filas duplicadas para asegurar la integridad del dataset.\n",
    "Reemplazo de valores no numéricos:\n",
    "\n",
    "Las columnas con valores no numéricos se convirtieron a valores nulos (NaN) y posteriormente se reemplazaron con 0.\n",
    "Relleno de valores faltantes:\n",
    "\n",
    "Cualquier valor faltante en el dataset fue rellenado con 0 para evitar problemas durante el análisis.\n",
    "2. Transformaciones realizadas\n",
    "Escalado de la columna \"Renta\":\n",
    "\n",
    "La columna de ingresos fue escalada utilizando la normalización z-score para centrar los datos en torno a la media y reducir la influencia de valores extremos.\n",
    "\n",
    "Codificación de variables categóricas:\n",
    "\n",
    "La variable \"Sexo\" fue codificada en valores binarios utilizando get_dummies, eliminando redundancias.\n",
    "Selección de características relevantes:\n",
    "\n",
    "Se seleccionaron únicamente las columnas clave para el modelo:\n",
    "Renta: Nivel de ingresos normalizado.\n",
    "Edad: Edad del cliente.\n",
    "Antigüedad: Tiempo como cliente.\n",
    "Target: Variable objetivo para predecir el comportamiento.\n",
    "3. Estructura del dataset resultante\n",
    "Después de las transformaciones, el dataset final consta de:\n",
    "\n",
    "51124 filas y 4 columnas:\n",
    "Renta (float64)\n",
    "Edad (int64)\n",
    "Antigüedad (int64)\n",
    "Target (int64)\n",
    "El dataset está libre de valores faltantes y duplicados, y todas las columnas relevantes están listas para ser utilizadas en el modelado.\n",
    "\n",
    "4. Visualizaciones realizadas\n",
    "Histogramas:\n",
    "\n",
    "Distribución de las variables Renta, Edad y Antigüedad para observar su comportamiento.\n",
    "Boxplots:\n",
    "\n",
    "Identificación de posibles outliers en la columna \"Renta\".\n",
    "Heatmap de correlación:\n",
    "\n",
    "Exploración de correlaciones entre las variables seleccionadas y el target.\n",
    "5. Conclusiones\n",
    "El dataset está preparado para la fase de modelado. Las transformaciones realizadas aseguran que los datos son consistentes y útiles para entrenar un modelo supervisado. Además, las distribuciones y correlaciones observadas indican que el dataset contiene patrones útiles que podrían ser aprovechados por el modelo.\n",
    "\n"
   ]
  }
 ],
 "metadata": {
  "kernelspec": {
   "display_name": "Python 3 (ipykernel)",
   "language": "python",
   "name": "python3"
  },
  "language_info": {
   "codemirror_mode": {
    "name": "ipython",
    "version": 3
   },
   "file_extension": ".py",
   "mimetype": "text/x-python",
   "name": "python",
   "nbconvert_exporter": "python",
   "pygments_lexer": "ipython3",
   "version": "3.12.5"
  }
 },
 "nbformat": 4,
 "nbformat_minor": 5
}
