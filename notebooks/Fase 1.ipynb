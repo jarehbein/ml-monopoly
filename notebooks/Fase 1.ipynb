{
 "cells": [
  {
   "cell_type": "raw",
   "id": "1c0e6f77-4f35-4f67-87c9-04d428b71d04",
   "metadata": {},
   "source": [
    "Fase 1: Comprensión del Negocio\n",
    "1. Definición del problema\n",
    "En este proyecto, buscamos predecir el comportamiento de los clientes en base a características como su edad, antigüedad como cliente, renta, entre otros. Esto permitirá identificar patrones de comportamiento, ayudar en la toma de decisiones estratégicas y mejorar los servicios de la empresa mediante la segmentación y personalización de las ofertas.\n",
    "\n",
    "2. Objetivo del proyecto\n",
    "El objetivo principal es construir un modelo de Machine Learning que prediga el comportamiento del cliente, específicamente si un cliente está en riesgo de abandonar el servicio o si es probable que se mantenga activo. Esto facilitará la implementación de estrategias preventivas y personalizadas, como ofertas o beneficios para retener a los clientes.\n",
    "\n",
    "3. Metas específicas\n",
    "Identificar variables relevantes para entender el comportamiento del cliente.\n",
    "Construir y evaluar modelos predictivos basados en los datos disponibles.\n",
    "Proveer insights visuales y métricas clave para respaldar decisiones comerciales.\n",
    "Implementar un pipeline reproducible con Kedro para garantizar la escalabilidad y mantenibilidad del proyecto.\n",
    "4. Entregables\n",
    "Un modelo predictivo implementado y validado.\n",
    "Informe técnico que detalla los hallazgos del proyecto.\n",
    "Gráficos y visualizaciones que apoyen la comprensión de los resultados.\n",
    "Pipeline de datos estructurado con Kedro.\n",
    "5. Impacto esperado\n",
    "Reducción en la tasa de abandono de clientes.\n",
    "Incremento en la satisfacción y retención de clientes.\n",
    "Mejora en las estrategias de marketing al enfocar esfuerzos en clientes en riesgo."
   ]
  }
 ],
 "metadata": {
  "kernelspec": {
   "display_name": "Python 3 (ipykernel)",
   "language": "python",
   "name": "python3"
  },
  "language_info": {
   "codemirror_mode": {
    "name": "ipython",
    "version": 3
   },
   "file_extension": ".py",
   "mimetype": "text/x-python",
   "name": "python",
   "nbconvert_exporter": "python",
   "pygments_lexer": "ipython3",
   "version": "3.12.5"
  }
 },
 "nbformat": 4,
 "nbformat_minor": 5
}
