{
 "cells": [
  {
   "cell_type": "code",
   "execution_count": null,
   "id": "995965f9-0b9b-4e8b-b597-efaa1221ea5a",
   "metadata": {},
   "outputs": [],
   "source": [
    "Fase 4: Modelado\n",
    "1. Selección del Modelo\n",
    "Para abordar el problema de predicción del comportamiento del cliente, se decidió utilizar algoritmos de clasificación supervisada. Los modelos seleccionados para esta tarea son:\n",
    "\n",
    "Regresión Logística:\n",
    "\n",
    "Un modelo lineal simple y rápido de interpretar.\n",
    "Ideal como punto de partida para problemas de clasificación binaria.\n",
    "Random Forest:\n",
    "\n",
    "Modelo basado en ensambles de árboles de decisión.\n",
    "Robusto frente a datos con ruido y capaz de capturar interacciones complejas entre variables.\n",
    "Gradient Boosting (XGBoost):\n",
    "\n",
    "Modelo avanzado de boosting que combina múltiples árboles débiles.\n",
    "Excelente para problemas complejos y grandes volúmenes de datos.\n"
   ]
  },
  {
   "cell_type": "code",
   "execution_count": null,
   "id": "549fe6f1-aad2-4772-8796-8b201deb25ee",
   "metadata": {},
   "outputs": [],
   "source": [
    "2. Preparación de los Datos para el Modelado\n",
    "División del Dataset:\n",
    "\n",
    "80% de los datos se utiliza para entrenamiento y 20% para pruebas.\n",
    "Se empleó train_test_split de sklearn para garantizar que el conjunto de prueba no se utilice durante el entrenamiento.\n"
   ]
  },
  {
   "cell_type": "code",
   "execution_count": 2,
   "id": "b05db54d-6e01-4de1-961a-240cbaed09c5",
   "metadata": {},
   "outputs": [
    {
     "ename": "NameError",
     "evalue": "name 'data' is not defined",
     "output_type": "error",
     "traceback": [
      "\u001b[1;31m---------------------------------------------------------------------------\u001b[0m",
      "\u001b[1;31mNameError\u001b[0m                                 Traceback (most recent call last)",
      "Cell \u001b[1;32mIn[2], line 3\u001b[0m\n\u001b[0;32m      1\u001b[0m \u001b[38;5;28;01mfrom\u001b[39;00m \u001b[38;5;21;01msklearn\u001b[39;00m\u001b[38;5;21;01m.\u001b[39;00m\u001b[38;5;21;01mmodel_selection\u001b[39;00m \u001b[38;5;28;01mimport\u001b[39;00m train_test_split\n\u001b[1;32m----> 3\u001b[0m X \u001b[38;5;241m=\u001b[39m \u001b[43mdata\u001b[49m[[\u001b[38;5;124m\"\u001b[39m\u001b[38;5;124mRenta\u001b[39m\u001b[38;5;124m\"\u001b[39m, \u001b[38;5;124m\"\u001b[39m\u001b[38;5;124mEdad\u001b[39m\u001b[38;5;124m\"\u001b[39m, \u001b[38;5;124m\"\u001b[39m\u001b[38;5;124mAntiguedad\u001b[39m\u001b[38;5;124m\"\u001b[39m]]\n\u001b[0;32m      4\u001b[0m y \u001b[38;5;241m=\u001b[39m data[\u001b[38;5;124m\"\u001b[39m\u001b[38;5;124mtarget\u001b[39m\u001b[38;5;124m\"\u001b[39m]\n\u001b[0;32m      6\u001b[0m X_train, X_test, y_train, y_test \u001b[38;5;241m=\u001b[39m train_test_split(X, y, test_size\u001b[38;5;241m=\u001b[39m\u001b[38;5;241m0.2\u001b[39m, random_state\u001b[38;5;241m=\u001b[39m\u001b[38;5;241m42\u001b[39m)\n",
      "\u001b[1;31mNameError\u001b[0m: name 'data' is not defined"
     ]
    }
   ],
   "source": [
    "from sklearn.model_selection import train_test_split\n",
    "\n",
    "X = data[[\"Renta\", \"Edad\", \"Antiguedad\"]]\n",
    "y = data[\"target\"]\n",
    "\n",
    "X_train, X_test, y_train, y_test = train_test_split(X, y, test_size=0.2, random_state=42)"
   ]
  },
  {
   "cell_type": "code",
   "execution_count": null,
   "id": "d0aa2e30-11b9-4f05-8192-afb0d487e0e4",
   "metadata": {},
   "outputs": [],
   "source": [
    "Escalado de los datos:\n",
    "\n",
    "Se utilizó StandardScaler para normalizar las variables predictoras y garantizar que los algoritmos trabajen eficientemente."
   ]
  },
  {
   "cell_type": "code",
   "execution_count": null,
   "id": "ce682614-096b-4c94-8315-a0b9d0bab0e2",
   "metadata": {},
   "outputs": [],
   "source": [
    "from sklearn.preprocessing import StandardScaler\n",
    "\n",
    "scaler = StandardScaler()\n",
    "X_train_scaled = scaler.fit_transform(X_train)\n",
    "X_test_scaled = scaler.transform(X_test)"
   ]
  },
  {
   "cell_type": "code",
   "execution_count": null,
   "id": "6145576b-fa7c-441f-ae77-fab33b4da7ae",
   "metadata": {},
   "outputs": [],
   "source": [
    "3. Entrenamiento de los Modelos\n",
    "Cada modelo fue entrenado utilizando el conjunto de datos de entrenamiento.\n",
    "\n",
    "Regresión Logística:"
   ]
  },
  {
   "cell_type": "code",
   "execution_count": null,
   "id": "5d1be272-a350-4019-aba8-612820eda7e0",
   "metadata": {},
   "outputs": [],
   "source": [
    "from sklearn.linear_model import LogisticRegression\n",
    "\n",
    "logistic_model = LogisticRegression()\n",
    "logistic_model.fit(X_train_scaled, y_train)\n"
   ]
  },
  {
   "cell_type": "code",
   "execution_count": null,
   "id": "505a53fb-b008-447f-8138-eb48142710cd",
   "metadata": {},
   "outputs": [],
   "source": [
    "Random Forest:\n"
   ]
  },
  {
   "cell_type": "code",
   "execution_count": null,
   "id": "3ac546eb-8b7f-4e85-8b9b-f8f88c6f1d95",
   "metadata": {},
   "outputs": [],
   "source": [
    "from sklearn.ensemble import RandomForestClassifier\n",
    "\n",
    "rf_model = RandomForestClassifier(n_estimators=100, random_state=42)\n",
    "rf_model.fit(X_train, y_train)\n"
   ]
  },
  {
   "cell_type": "code",
   "execution_count": null,
   "id": "8253b118-4965-44e3-8798-7d51871d2a17",
   "metadata": {},
   "outputs": [],
   "source": [
    "XGBoost:"
   ]
  },
  {
   "cell_type": "code",
   "execution_count": null,
   "id": "81e48256-4988-4842-aa7c-768ab97f0716",
   "metadata": {},
   "outputs": [],
   "source": [
    "from xgboost import XGBClassifier\n",
    "\n",
    "xgb_model = XGBClassifier(random_state=42)\n",
    "xgb_model.fit(X_train_scaled, y_train)\n"
   ]
  },
  {
   "cell_type": "code",
   "execution_count": null,
   "id": "1721d7af-e12d-46c8-bc06-0f518899fc70",
   "metadata": {},
   "outputs": [],
   "source": [
    "4. Evaluación del Modelo\n",
    "Se utilizaron las siguientes métricas de evaluación:\n",
    "\n",
    "Exactitud (Accuracy):\n",
    "Proporción de predicciones correctas.\n",
    "Matriz de Confusión:\n",
    "Para identificar errores de clasificación.\n",
    "Reporte de Clasificación:\n",
    "Incluye precisión, recall y F1-score para cada clase.\n",
    "    \n"
   ]
  },
  {
   "cell_type": "code",
   "execution_count": null,
   "id": "1e6852a8-6d89-46f5-ba21-9e9f1660fd5d",
   "metadata": {},
   "outputs": [],
   "source": [
    "Código de evaluación:"
   ]
  },
  {
   "cell_type": "code",
   "execution_count": null,
   "id": "da4721a6-1e00-4d20-a17e-69b8b9183959",
   "metadata": {},
   "outputs": [],
   "source": [
    "from sklearn.metrics import accuracy_score, classification_report, confusion_matrix\n",
    "\n",
    "for model, name in [(logistic_model, \"Logistic Regression\"),\n",
    "                    (rf_model, \"Random Forest\"),\n",
    "                    (xgb_model, \"XGBoost\")]:\n",
    "    print(f\"Evaluación para {name}:\")\n",
    "    y_pred = model.predict(X_test_scaled)\n",
    "    print(\"Accuracy:\", accuracy_score(y_test, y_pred))\n",
    "    print(\"Reporte de Clasificación:\\n\", classification_report(y_test, y_pred))\n",
    "    print(\"Matriz de Confusión:\\n\", confusion_matrix(y_test, y_pred))\n",
    "    print(\"-\" * 50)"
   ]
  },
  {
   "cell_type": "code",
   "execution_count": 1,
   "id": "62b5687b-f793-4939-a409-a57840b0741f",
   "metadata": {},
   "outputs": [
    {
     "ename": "SyntaxError",
     "evalue": "invalid syntax (3282376102.py, line 1)",
     "output_type": "error",
     "traceback": [
      "\u001b[1;36m  Cell \u001b[1;32mIn[1], line 1\u001b[1;36m\u001b[0m\n\u001b[1;33m    5. Selección del Mejor Modelo\u001b[0m\n\u001b[1;37m       ^\u001b[0m\n\u001b[1;31mSyntaxError\u001b[0m\u001b[1;31m:\u001b[0m invalid syntax\n"
     ]
    }
   ],
   "source": [
    "5. Selección del Mejor Modelo\n",
    "El modelo con la mejor combinación de F1-score, precisión, y recall será seleccionado para su implementación en la fase de despliegue."
   ]
  },
  {
   "cell_type": "code",
   "execution_count": null,
   "id": "59e47b88-adb3-45ad-9dde-2bd278c09e2f",
   "metadata": {},
   "outputs": [],
   "source": []
  }
 ],
 "metadata": {
  "kernelspec": {
   "display_name": "Python 3 (ipykernel)",
   "language": "python",
   "name": "python3"
  },
  "language_info": {
   "codemirror_mode": {
    "name": "ipython",
    "version": 3
   },
   "file_extension": ".py",
   "mimetype": "text/x-python",
   "name": "python",
   "nbconvert_exporter": "python",
   "pygments_lexer": "ipython3",
   "version": "3.12.5"
  }
 },
 "nbformat": 4,
 "nbformat_minor": 5
}
